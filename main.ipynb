{
 "cells": [
  {
   "cell_type": "markdown",
   "metadata": {},
   "source": [
    "# Vehicle Position Estimation Using 1D Kalman Filter"
   ]
  },
  {
   "cell_type": "markdown",
   "metadata": {},
   "source": [
    "By Fabiano Junior Maia Manschein\n",
    "\n",
    "For the Robotic Perception class of Toyohashi University of Tecnology\n",
    "\n",
    "Imaging and Light in Extended Reality (IMLEX) Master Program, 2023"
   ]
  },
  {
   "cell_type": "markdown",
   "metadata": {},
   "source": [
    "## Problem definition"
   ]
  },
  {
   "cell_type": "markdown",
   "metadata": {},
   "source": [
    "Imagine a scenario where you have a vehicle moving along a straight road. You have access to a sensor that measures the position of this vehicle along the road. However, the sensor measurements are noisy due to various factors such as sensor inaccuracies, environmental interference, or measurement errors."
   ]
  },
  {
   "cell_type": "markdown",
   "metadata": {},
   "source": [
    "## Goal"
   ]
  },
  {
   "cell_type": "markdown",
   "metadata": {},
   "source": [
    "The goal is to develop a 1D Kalman Filter to accurately estimate the vehicle's position along the road, compensating for the noise present in the sensor measurements."
   ]
  },
  {
   "cell_type": "markdown",
   "metadata": {},
   "source": [
    "## Steps to implement"
   ]
  },
  {
   "cell_type": "markdown",
   "metadata": {},
   "source": [
    "1. Data Generation:\n",
    "- Simulate or obtain a dataset representing the vehicle's true position along the road. This dataset will serve as the ground truth.\n",
    "- Introduce artificial noise or uncertainty into the dataset to mimic the sensor measurements.\n",
    "\n",
    "2. Initialization:\n",
    "- Set up the initial state of the Kalman Filter. This includes defining the initial estimate of the vehicle's position and velocity (if available), and initializing the covariance matrix.\n",
    "- Define parameters for process noise (representing the uncertainty in the vehicle's movement) and measurement noise (representing sensor inaccuracies).\n",
    "\n",
    "3. Kalman Filter Implementation:\n",
    "- Utilize the FilterPy Python library.\n",
    "- Implement the prediction step to estimate the vehicle's next position based on the current state and the known dynamics of the system.\n",
    "- Implement the update step to correct the predicted state using the noisy sensor measurements.\n",
    "\n",
    "4. Data Processing:\n",
    "- Iterate through the simulated sensor measurements, applying the Kalman Filter to estimate the vehicle's position at each measurement instance.\n",
    "- Store the estimated positions obtained from the Kalman Filter.\n",
    "\n",
    "5. Visualization:\n",
    "- Plot the original noisy sensor measurements against the true vehicle position to visualize the noisy data.\n",
    "- Plot the estimated positions obtained from the Kalman Filter against the ground truth to visualize how well the filter estimates the true position despite the noise."
   ]
  },
  {
   "cell_type": "markdown",
   "metadata": {},
   "source": [
    "# Data Generation"
   ]
  },
  {
   "cell_type": "markdown",
   "metadata": {},
   "source": [
    "The goal here is simple. Write a simple script to simulate a car moving along a road, with noisy sensors feeding-off position data. We'll have the ground truth data separated from the noisy data.\n",
    "\n"
   ]
  }
 ],
 "metadata": {
  "language_info": {
   "name": "python"
  }
 },
 "nbformat": 4,
 "nbformat_minor": 2
}
